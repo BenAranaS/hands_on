{
 "cells": [
  {
   "cell_type": "markdown",
   "metadata": {},
   "source": [
    "# Pipeline to evaluate calibration methods\n",
    "\n",
    "In order to compare several calibration methods we will use \n",
    "\n",
    "- Select D datasets\n",
    "- Select C base classifiers\n",
    "- Select M calibration methods\n",
    "\n",
    "The M calibration methods will be compared in all DxC combinations\n",
    "\n",
    "For each pair (M, DxC) we will run several evaluations in order to get better estimates. To do that we will\n",
    "\n",
    "- Repeat N times the following process:\n",
    "- 5-fold cross-validation to divide the random shuffle into train and test\n",
    "- The train partition will be further divided with 3-fold cross-validation to train and validate the classifier + calibrator combination\n",
    "\n",
    "The previous process will generate Nx5 evaluation estimations\n",
    "\n",
    "Finally, the M calibrators with the Nx5 estimations for each DxC combination are compared in the following manner.\n",
    "\n",
    "1. We rank the M calibrators and perform a Friedman test to get the statistical difference.\n",
    "2. If the p-value of the test is under 0.005 we performed a post-hoc one-tailed Bonferroni-Dunn test to obtain Critical Differences which indicate the minimum ranking difference to consider the methods significantly different."
   ]
  },
  {
   "cell_type": "code",
   "execution_count": 1,
   "metadata": {},
   "outputs": [],
   "source": [
    "%matplotlib inline\n",
    "\n",
    "import numpy as np\n",
    "import pandas as pd\n",
    "import matplotlib.pyplot as plt\n",
    "from pycalib.stats import compute_friedmanchisquare, plot_critical_difference\n",
    "from pycalib.utils import plot_df_to_heatmap\n",
    "from scipy.stats import rankdata\n",
    "\n",
    "df_results = pd.read_csv('data/results.csv.zip')"
   ]
  },
  {
   "cell_type": "code",
   "execution_count": 2,
   "metadata": {},
   "outputs": [
    {
     "data": {
      "text/plain": [
       "Index(['Unnamed: 0', 'Unnamed: 0.1', 'dataset', 'n_classes', 'n_features',\n",
       "       'n_samples', 'method', 'mc', 'test_fold', 'train_acc', 'train_loss',\n",
       "       'train_brier', 'acc', 'loss', 'brier', 'calibrators', 'classifier'],\n",
       "      dtype='object')"
      ]
     },
     "execution_count": 2,
     "metadata": {},
     "output_type": "execute_result"
    }
   ],
   "source": [
    "category_list = ['dataset', 'method', 'classifier']\n",
    "for cat in category_list:\n",
    "    df_results[cat] = df_results[cat].astype('category')\n",
    "\n",
    "df_results.columns"
   ]
  },
  {
   "cell_type": "code",
   "execution_count": 3,
   "metadata": {},
   "outputs": [
    {
     "name": "stdout",
     "output_type": "stream",
     "text": [
      "Datasets: 21\n",
      "Classifiers: 11\n",
      "Calibrators: 9\n"
     ]
    }
   ],
   "source": [
    "n_datasets = len(df_results['dataset'].cat.categories)\n",
    "n_classifiers = len(df_results['classifier'].cat.categories)\n",
    "n_calibrators = len(df_results['method'].cat.categories)\n",
    "print('Datasets: {}\\nClassifiers: {}\\nCalibrators: {}'.format(\n",
    "            n_datasets, n_classifiers, n_calibrators))"
   ]
  },
  {
   "cell_type": "markdown",
   "metadata": {},
   "source": [
    "# Selecting an evaluation metric\n",
    "\n",
    "For the following examples we will focus on Brier score as an evaluation measure. If "
   ]
  },
  {
   "cell_type": "code",
   "execution_count": 4,
   "metadata": {},
   "outputs": [],
   "source": [
    "measure = 'brier'\n",
    "max_is_better = False"
   ]
  },
  {
   "cell_type": "markdown",
   "metadata": {},
   "source": [
    "# Example for one classifier\n",
    "\n",
    "Here we perform a statistical test focusing only in one classifier, and comparing all the calibration methods with several datasets.\n",
    "\n",
    "### Friedman test\n",
    "\n",
    "First we compute the Friedman test to find if there are significant differences between the calibration methods."
   ]
  },
  {
   "cell_type": "code",
   "execution_count": 5,
   "metadata": {
    "scrolled": false
   },
   "outputs": [
    {
     "name": "stdout",
     "output_type": "stream",
     "text": [
      "FriedmanchisquareResult(statistic=111.5936507936508, pvalue=1.79050686771319e-20)\n"
     ]
    }
   ],
   "source": [
    "classifier_name = 'logistic'\n",
    "\n",
    "class_mask = df_results['classifier'] == classifier_name\n",
    "table = df_results[class_mask].pivot_table(index=['dataset'],\n",
    "                                   columns=['method'],\n",
    "                                   values=[measure],\n",
    "                                   aggfunc=np.mean)\n",
    "\n",
    "# Perform a Friedman statistic test\n",
    "# Remove datasets in which one of the experiments failed\n",
    "table = table[~table.isna().any(axis=1)]\n",
    "if max_is_better:\n",
    "    table *= -1\n",
    "\n",
    "ftest = compute_friedmanchisquare(table)\n",
    "print(ftest)"
   ]
  },
  {
   "cell_type": "markdown",
   "metadata": {},
   "source": [
    "### One-tailed Bonferroni-Dunn test (or Nemenyi test)\n",
    "\n",
    "The average rankings are then compared with a One-tailed Bonferroni-Dunn test. However, if the number of compared calibrators is larger than 10, the Nemenyi test is used instead."
   ]
  },
  {
   "cell_type": "code",
   "execution_count": 6,
   "metadata": {},
   "outputs": [
    {
     "name": "stdout",
     "output_type": "stream",
     "text": [
      "Critical Difference computed with avranks of shape (9,) for 21 datasets\n"
     ]
    },
    {
     "data": {
      "image/png": "[encoded data removed]",
      "text/plain": [
       "<Figure size 432x176.4 with 1 Axes>"
      ]
     },
     "metadata": {},
     "output_type": "display_data"
    }
   ],
   "source": [
    "ranking_table = table.apply(rankdata, axis=1).mean()\n",
    "print(('Critical Difference computed with avranks of shape {} ' +\n",
    "       'for {} datasets').format(np.shape(ranking_table),\n",
    "                             table.shape[0]))\n",
    "_ = plot_critical_difference(avranks=ranking_table,\n",
    "                           num_datasets=table.shape[0],\n",
    "                           names=table.columns.levels[1],\n",
    "                           title='{} (p-value = {:.2e}, #D = {})'.format(classifier_name, \n",
    "                                                                        ftest.pvalue, table.shape[0]))"
   ]
  },
  {
   "cell_type": "markdown",
   "metadata": {},
   "source": [
    "# Datasets and classifiers combinations\n",
    "\n",
    "Finally, we perform the final analysis with all the classifiers and datasets combined."
   ]
  },
  {
   "cell_type": "code",
   "execution_count": 7,
   "metadata": {},
   "outputs": [
    {
     "name": "stdout",
     "output_type": "stream",
     "text": [
      "Friedman test on the full table of shape (229, 9)\n",
      "FriedmanchisquareResult(statistic=645.5841915644676, pvalue=3.6798823197721567e-134)\n",
      "Critical Difference computed with avranks of shape (229, 9) for 229 dataset and classifier combinations\n"
     ]
    },
    {
     "data": {
      "image/png": "[encoded data removed]",
      "text/plain": [
       "<Figure size 432x176.4 with 1 Axes>"
      ]
     },
     "metadata": {},
     "output_type": "display_data"
    }
   ],
   "source": [
    "## --------------------------------------------------------------##\n",
    "## Aggregated rankings\n",
    "# Perform rankings of dataset+classifier vs calibration method\n",
    "table = df_results.pivot_table(index=['dataset', 'classifier'],\n",
    "                       columns=['method'],\n",
    "                       values=[measure], aggfunc=np.mean)\n",
    "#table = table.reindex(new_order, axis=1, level='method')\n",
    "#table.sort_index(inplace=True)\n",
    "# Remove datasets and classifier combinations in which one of the experiments failed\n",
    "table = table[~table.isna().any(axis=1)]\n",
    "if max_is_better:\n",
    "    table *= -1\n",
    "ranking_table_all = table.apply(rankdata, axis=1).mean()\n",
    "ftest = compute_friedmanchisquare(table)\n",
    "print('Friedman test on the full table of shape {}'.format(\n",
    "            np.shape(table)))\n",
    "print(ftest)\n",
    "print(('Critical Difference computed with avranks of shape {} for ' +\n",
    "       '{} dataset and classifier combinations').format(np.shape(table),\n",
    "                             len(table)))\n",
    "_ = plot_critical_difference(avranks=ranking_table_all,\n",
    "                           num_datasets=len(table),\n",
    "                           names=table.columns.levels[1],\n",
    "                           title='(p-value = {:.2e}, #D = {})'.format(ftest.pvalue, len(table)))\n"
   ]
  },
  {
   "cell_type": "code",
   "execution_count": null,
   "metadata": {},
   "outputs": [],
   "source": []
  }
 ],
 "metadata": {
  "kernelspec": {
   "display_name": "clacal",
   "language": "python",
   "name": "clacal"
  },
  "language_info": {
   "codemirror_mode": {
    "name": "ipython",
    "version": 3
   },
   "file_extension": ".py",
   "mimetype": "text/x-python",
   "name": "python",
   "nbconvert_exporter": "python",
   "pygments_lexer": "ipython3",
   "version": "3.6.9"
  }
 },
 "nbformat": 4,
 "nbformat_minor": 2
}
